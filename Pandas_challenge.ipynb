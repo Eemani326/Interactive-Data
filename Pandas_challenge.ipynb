{
 "cells": [
  {
   "cell_type": "markdown",
   "metadata": {},
   "source": [
    "(Pandas challenge)"
   ]
  },
  {
   "cell_type": "code",
   "execution_count": 1,
   "metadata": {},
   "outputs": [
    {
     "data": {
      "text/html": [
       "<div>\n",
       "<style scoped>\n",
       "    .dataframe tbody tr th:only-of-type {\n",
       "        vertical-align: middle;\n",
       "    }\n",
       "\n",
       "    .dataframe tbody tr th {\n",
       "        vertical-align: top;\n",
       "    }\n",
       "\n",
       "    .dataframe thead th {\n",
       "        text-align: right;\n",
       "    }\n",
       "</style>\n",
       "<table border=\"1\" class=\"dataframe\">\n",
       "  <thead>\n",
       "    <tr style=\"text-align: right;\">\n",
       "      <th></th>\n",
       "      <th>serial number</th>\n",
       "      <th>product</th>\n",
       "      <th>maximum_capacity</th>\n",
       "    </tr>\n",
       "  </thead>\n",
       "  <tbody>\n",
       "    <tr>\n",
       "      <th>0</th>\n",
       "      <td>1001</td>\n",
       "      <td>consumer</td>\n",
       "      <td>10</td>\n",
       "    </tr>\n",
       "    <tr>\n",
       "      <th>1</th>\n",
       "      <td>1002</td>\n",
       "      <td>retail</td>\n",
       "      <td>20</td>\n",
       "    </tr>\n",
       "    <tr>\n",
       "      <th>2</th>\n",
       "      <td>1003</td>\n",
       "      <td>whole-sale</td>\n",
       "      <td>15</td>\n",
       "    </tr>\n",
       "  </tbody>\n",
       "</table>\n",
       "</div>"
      ],
      "text/plain": [
       "   serial number     product  maximum_capacity\n",
       "0           1001    consumer                10\n",
       "1           1002      retail                20\n",
       "2           1003  whole-sale                15"
      ]
     },
     "execution_count": 1,
     "metadata": {},
     "output_type": "execute_result"
    }
   ],
   "source": [
    "# Importing pandas\n",
    "import pandas as pd\n",
    "\n",
    "# Creating a DataFrame with three columns and three rows\n",
    "data = {'serial number': [1001, 1002, 1003],\n",
    "        'product': ['consumer', 'retail', 'whole-sale'],\n",
    "        'maximum_capacity': [10, 20, 15]}\n",
    "\n",
    "df = pd.DataFrame(data)\n",
    "\n",
    "# Displaying the DataFrame\n",
    "df"
   ]
  },
  {
   "cell_type": "code",
   "execution_count": 2,
   "metadata": {},
   "outputs": [
    {
     "data": {
      "text/html": [
       "<div>\n",
       "<style scoped>\n",
       "    .dataframe tbody tr th:only-of-type {\n",
       "        vertical-align: middle;\n",
       "    }\n",
       "\n",
       "    .dataframe tbody tr th {\n",
       "        vertical-align: top;\n",
       "    }\n",
       "\n",
       "    .dataframe thead th {\n",
       "        text-align: right;\n",
       "    }\n",
       "</style>\n",
       "<table border=\"1\" class=\"dataframe\">\n",
       "  <thead>\n",
       "    <tr style=\"text-align: right;\">\n",
       "      <th></th>\n",
       "      <th>serial number</th>\n",
       "      <th>product</th>\n",
       "      <th>maximum_capacity</th>\n",
       "    </tr>\n",
       "  </thead>\n",
       "  <tbody>\n",
       "    <tr>\n",
       "      <th>0</th>\n",
       "      <td>1001</td>\n",
       "      <td>consumer</td>\n",
       "      <td>10</td>\n",
       "    </tr>\n",
       "    <tr>\n",
       "      <th>1</th>\n",
       "      <td>1002</td>\n",
       "      <td>retail</td>\n",
       "      <td>20</td>\n",
       "    </tr>\n",
       "    <tr>\n",
       "      <th>2</th>\n",
       "      <td>1003</td>\n",
       "      <td>whole-sale</td>\n",
       "      <td>15</td>\n",
       "    </tr>\n",
       "  </tbody>\n",
       "</table>\n",
       "</div>"
      ],
      "text/plain": [
       "   serial number     product  maximum_capacity\n",
       "0           1001    consumer                10\n",
       "1           1002      retail                20\n",
       "2           1003  whole-sale                15"
      ]
     },
     "execution_count": 2,
     "metadata": {},
     "output_type": "execute_result"
    }
   ],
   "source": [
    "#head of teh created data frame\n",
    "df.head()"
   ]
  },
  {
   "cell_type": "code",
   "execution_count": 3,
   "metadata": {},
   "outputs": [
    {
     "data": {
      "text/plain": [
       "RangeIndex(start=0, stop=3, step=1)"
      ]
     },
     "execution_count": 3,
     "metadata": {},
     "output_type": "execute_result"
    }
   ],
   "source": [
    "# index of the created data frame\n",
    "df.index"
   ]
  },
  {
   "cell_type": "code",
   "execution_count": 14,
   "metadata": {},
   "outputs": [
    {
     "data": {
      "text/plain": [
       "0    1001\n",
       "1    1002\n",
       "2    1003\n",
       "Name: serial number, dtype: int64"
      ]
     },
     "execution_count": 14,
     "metadata": {},
     "output_type": "execute_result"
    }
   ],
   "source": [
    "# vieweing first column of teh data frame \n",
    "#df.iloc[:, 0]\n",
    "\n",
    "column = df['serial number']\n",
    "column"
   ]
  },
  {
   "cell_type": "code",
   "execution_count": 7,
   "metadata": {},
   "outputs": [
    {
     "data": {
      "text/plain": [
       "serial number           1001\n",
       "product             consumer\n",
       "maximum_capacity          10\n",
       "Name: 0, dtype: object"
      ]
     },
     "execution_count": 7,
     "metadata": {},
     "output_type": "execute_result"
    }
   ],
   "source": [
    "# vieweing first row of the data frame\n",
    "df.iloc[0]"
   ]
  },
  {
   "cell_type": "code",
   "execution_count": 15,
   "metadata": {},
   "outputs": [
    {
     "data": {
      "text/html": [
       "<div>\n",
       "<style scoped>\n",
       "    .dataframe tbody tr th:only-of-type {\n",
       "        vertical-align: middle;\n",
       "    }\n",
       "\n",
       "    .dataframe tbody tr th {\n",
       "        vertical-align: top;\n",
       "    }\n",
       "\n",
       "    .dataframe thead th {\n",
       "        text-align: right;\n",
       "    }\n",
       "</style>\n",
       "<table border=\"1\" class=\"dataframe\">\n",
       "  <thead>\n",
       "    <tr style=\"text-align: right;\">\n",
       "      <th></th>\n",
       "      <th>serial number</th>\n",
       "      <th>product</th>\n",
       "      <th>maximum_capacity</th>\n",
       "    </tr>\n",
       "  </thead>\n",
       "  <tbody>\n",
       "    <tr>\n",
       "      <th>0</th>\n",
       "      <td>1001</td>\n",
       "      <td>consumer</td>\n",
       "      <td>10</td>\n",
       "    </tr>\n",
       "    <tr>\n",
       "      <th>1</th>\n",
       "      <td>1002</td>\n",
       "      <td>retail</td>\n",
       "      <td>20</td>\n",
       "    </tr>\n",
       "    <tr>\n",
       "      <th>2</th>\n",
       "      <td>1003</td>\n",
       "      <td>whole-sale</td>\n",
       "      <td>15</td>\n",
       "    </tr>\n",
       "  </tbody>\n",
       "</table>\n",
       "</div>"
      ],
      "text/plain": [
       "   serial number     product  maximum_capacity\n",
       "0           1001    consumer                10\n",
       "1           1002      retail                20\n",
       "2           1003  whole-sale                15"
      ]
     },
     "execution_count": 15,
     "metadata": {},
     "output_type": "execute_result"
    }
   ],
   "source": [
    "# Creating a DataFrame with the same data using a list of lists\n",
    "data_list = [\n",
    "    [1001, 'consumer', 10],\n",
    "    [1002, 'retail', 20],\n",
    "    [1003, 'whole-sale', 15]\n",
    "]\n",
    "\n",
    "# Defining column names\n",
    "columns = ['serial number', 'product', 'maximum_capacity']\n",
    "\n",
    "# Creating the DataFrame\n",
    "df_from_list = pd.DataFrame(data_list, columns=columns)\n",
    "\n",
    "# Displaying the DataFrame\n",
    "df_from_list\n"
   ]
  },
  {
   "cell_type": "code",
   "execution_count": 17,
   "metadata": {},
   "outputs": [],
   "source": [
    "# Writing the dataframe to new CSV\n",
    "df_from_list.to_csv(\"C:\\\\Users\\\\Esha\\\\Inderactive Data_\\\\Data frame.csv\")\n"
   ]
  },
  {
   "cell_type": "markdown",
   "metadata": {},
   "source": [
    "\n",
    "### What does the \"write/render/evaluate\" loop provide for creators of interactive data visualizations?\n",
    "The \"write/render/evaluate\" loop provides creators interactive data visualizations with an incredibly rapid iterative loop in which they can try things out and hone their design systems in the quickest way possible. By writing code, generating visual output, and evaluating the results, they are in a position to see the outcome of changes immediately. This feedback loop is fundamental in the fine-tuning of visualizations, making a designer able to try out many different mapping rules, tune his design, and therefore produce increasingly more effective and insightful representations of data. It effectively handles large datasets and is meant for creative exploration in data visualization."
   ]
  },
  {
   "cell_type": "markdown",
   "metadata": {},
   "source": [
    "### Why are dynamic, interactive data visualizations useful when communicating data?\n",
    "\n",
    "Interactive data visualizations revolutionize the way that data is communicated to a user; it is an engaging experience for the user. Interactive data visualization allows users to \"get their hands dirty\" by exploring the data: navigating and analyzing it. Users can tailor their views, concentrate on particular elements, and get insights at their own speed because to the flexibility. This flexibility gives consumers a variety of views to choose from, making it very valuable for multidimensional datasets. These interactive visualizations will be the tools for storytelling, capturing audiences in a tale that demystifies complexity. These graphics are breaking all the old-school concepts of communication by becoming cross-compatible and real-time updating between devices, which extends the reach and the impact of data within a web-driven world of networks."
   ]
  },
  {
   "cell_type": "markdown",
   "metadata": {},
   "source": [
    "### Do you agree with Murray's claim that open-source tools that avoid proprietary software are best for publishing data visualization? In a few sentences, explain why you do or do not agree.\n",
    "\n",
    "I agree with murray that open source tools that avoid propritary software are suitable are best for publishing visualizations as creators will be enforced to ristrict source or the actual content. which not allowing the actual raw  content to reach a wider audiance. All ideas that a creator wants to implement would have to be run by the establishments as any content can not be published in view of lisensing of the software. Which restricts the creative aspect of the visualization not being able to explore untapped opportunities for the actual owners of the creation."
   ]
  },
  {
   "cell_type": "code",
   "execution_count": null,
   "metadata": {},
   "outputs": [],
   "source": []
  }
 ],
 "metadata": {
  "kernelspec": {
   "display_name": "Python 3",
   "language": "python",
   "name": "python3"
  },
  "language_info": {
   "codemirror_mode": {
    "name": "ipython",
    "version": 3
   },
   "file_extension": ".py",
   "mimetype": "text/x-python",
   "name": "python",
   "nbconvert_exporter": "python",
   "pygments_lexer": "ipython3",
   "version": "3.11.5"
  }
 },
 "nbformat": 4,
 "nbformat_minor": 2
}
