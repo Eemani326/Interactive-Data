{
 "cells": [
  {
   "cell_type": "markdown",
   "id": "8c3a51c5",
   "metadata": {},
   "source": [
    "# **Interactive Data**"
   ]
  },
  {
   "cell_type": "markdown",
   "id": "5e9af7ef",
   "metadata": {},
   "source": [
    "**systems  check**   *(Esha Reddy Emani)*"
   ]
  },
  {
   "cell_type": "markdown",
   "id": "5bffd58d",
   "metadata": {},
   "source": [
    "---"
   ]
  },
  {
   "cell_type": "markdown",
   "id": "5b6d4ba7",
   "metadata": {},
   "source": [
    "![python image](/Users/esha/Desktop/random_data_watermark.jpeg)"
   ]
  },
  {
   "cell_type": "markdown",
   "id": "d9d1eeb9",
   "metadata": {},
   "source": [
    "## What i hope to **learn from this class:**"
   ]
  },
  {
   "cell_type": "markdown",
   "id": "3ef75a04",
   "metadata": {},
   "source": [
    "*By the end of interactive data id like to understand:*"
   ]
  },
  {
   "cell_type": "markdown",
   "id": "6011c6d4",
   "metadata": {},
   "source": [
    "1. Develop my python skills to structrue data.\n",
    "2. Improve my skills to write better syntaxes. \n",
    "3. perform exploratory data analysis on clean and structured data.\n",
    "4. learn how to use interactive and informative visualizations to represent data."
   ]
  },
  {
   "cell_type": "markdown",
   "id": "7ef40b26",
   "metadata": {},
   "source": [
    "---"
   ]
  },
  {
   "cell_type": "markdown",
   "id": "c0a50828",
   "metadata": {},
   "source": [
    "### Variable Assignment"
   ]
  },
  {
   "cell_type": "code",
   "execution_count": 11,
   "id": "62588e20",
   "metadata": {},
   "outputs": [
    {
     "name": "stdout",
     "output_type": "stream",
     "text": [
      "what is the one fact that you know about cars\n",
      "100000\n",
      "[7, 8, 7]\n"
     ]
    }
   ],
   "source": [
    "# Variable Assignment\n",
    "x = \"what is the one fact that you know about cars\"\n",
    "y = 100000\n",
    "z = [7,8,7]\n",
    "\n",
    "print(x)\n",
    "print(y)\n",
    "print(z)\n"
   ]
  },
  {
   "cell_type": "markdown",
   "id": "8125c43f",
   "metadata": {},
   "source": [
    "### Loop Statement"
   ]
  },
  {
   "cell_type": "code",
   "execution_count": 12,
   "id": "0e49b9da",
   "metadata": {},
   "outputs": [
    {
     "name": "stdout",
     "output_type": "stream",
     "text": [
      "1\n",
      "216\n",
      "27\n",
      "64\n",
      "343\n"
     ]
    }
   ],
   "source": [
    "# For Loop\n",
    "numbers = [1,6,3,4,7]\n",
    "\n",
    "for num in numbers:\n",
    "    square = num ** 3\n",
    "    print(square)\n"
   ]
  },
  {
   "cell_type": "markdown",
   "id": "b6404efe",
   "metadata": {},
   "source": [
    "### Example on print and return statements "
   ]
  },
  {
   "cell_type": "code",
   "execution_count": 13,
   "id": "57f048c6",
   "metadata": {},
   "outputs": [
    {
     "name": "stdout",
     "output_type": "stream",
     "text": [
      "27\n"
     ]
    }
   ],
   "source": [
    "#  Function with Print Statement and Return Statement\n",
    "def sum(a, b):\n",
    "    result = a + b\n",
    "    return result\n",
    "\n",
    "# Calling the function\n",
    "p = sum(23, 4)\n",
    "print(p)\n"
   ]
  },
  {
   "cell_type": "code",
   "execution_count": null,
   "id": "06b27904",
   "metadata": {},
   "outputs": [],
   "source": []
  }
 ],
 "metadata": {
  "kernelspec": {
   "display_name": "Python 3 (ipykernel)",
   "language": "python",
   "name": "python3"
  },
  "language_info": {
   "codemirror_mode": {
    "name": "ipython",
    "version": 3
   },
   "file_extension": ".py",
   "mimetype": "text/x-python",
   "name": "python",
   "nbconvert_exporter": "python",
   "pygments_lexer": "ipython3",
   "version": "3.12.4"
  }
 },
 "nbformat": 4,
 "nbformat_minor": 5
}
